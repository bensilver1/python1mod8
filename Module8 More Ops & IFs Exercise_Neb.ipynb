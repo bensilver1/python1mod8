{
 "cells": [
  {
   "cell_type": "markdown",
   "metadata": {},
   "source": [
    "### Exercise 1\n",
    "Ask for an exam score and store that number. If the number is greater than 100, then print out 'You cannot have an exam score higher than 100'. If the number doesn't exceeed 100 but is greater than or equal to 75, then print out 'You did great on your exam!'. Otherwise if they scored lower than 75, then print out 'You need to study harder'."
   ]
  },
  {
   "cell_type": "code",
   "execution_count": 7,
   "metadata": {},
   "outputs": [
    {
     "name": "stdin",
     "output_type": "stream",
     "text": [
      "Enter exam score:  60\n"
     ]
    },
    {
     "name": "stdout",
     "output_type": "stream",
     "text": [
      "You need to study harder\n"
     ]
    }
   ],
   "source": [
    "examScore = float(input(\"Enter exam score: \"))\n",
    "\n",
    "if examScore > 100:\n",
    "    print('You cannot have an exam score higher than 100')\n",
    "elif examScore >= 75:\n",
    "    print('You did great on your exam!')\n",
    "else:\n",
    "    print('You need to study harder')"
   ]
  },
  {
   "cell_type": "code",
   "execution_count": null,
   "metadata": {},
   "outputs": [],
   "source": []
  },
  {
   "cell_type": "markdown",
   "metadata": {},
   "source": [
    "### Exercise 2\n",
    "Ask a user to enter two numbers and find their average. Then, print out the average and whether each number is below or above average. Determine if a function should be created or not.\n",
    "    "
   ]
  },
  {
   "cell_type": "code",
   "execution_count": 11,
   "metadata": {},
   "outputs": [
    {
     "name": "stdin",
     "output_type": "stream",
     "text": [
      "Enter a number:  12\n",
      "Enter a second number:  11\n"
     ]
    },
    {
     "name": "stdout",
     "output_type": "stream",
     "text": [
      "The average of 12.00 and 11.00 is 11.50\n",
      "12.00 is above the average of 11.50\n",
      "11.00 is blow the average of 11.50\n"
     ]
    }
   ],
   "source": [
    "num1 = int(input(\"Enter a number: \"))\n",
    "num2 = int(input(\"Enter a second number: \"))\n",
    "average = (num1 + num2)/2\n",
    "print(f\"The average of {num1:.2f} and {num2:.2f} is {average:.2f}\")\n",
    "\n",
    "if num1 > average:\n",
    "    print(f\"{num1:.2f} is above the average of {average:.2f}\")\n",
    "elif num1 < average:\n",
    "    print(f\"{num1:.2f} is blow the average of {average:.2f}\")\n",
    "if num2 > average:\n",
    "    print(f\"{num2:.2f} is above the average of {average:.2f}\")\n",
    "elif num2 < average:\n",
    "    print(f\"{num2:.2f} is blow the average of {average:.2f}\")\n"
   ]
  },
  {
   "cell_type": "code",
   "execution_count": null,
   "metadata": {},
   "outputs": [],
   "source": []
  },
  {
   "cell_type": "code",
   "execution_count": null,
   "metadata": {},
   "outputs": [],
   "source": []
  },
  {
   "cell_type": "markdown",
   "metadata": {},
   "source": [
    "### Exercise 3\n",
    "Write a function to convert a test score to a grade where  \n",
    " - 90 - 100: A\n",
    " - 80 - 89:  B\n",
    " - 70 - 79:  C\n",
    " - 60 - 69:  D\n",
    " - < 60   :  F\n",
    " \n",
    "If a score is not between 0 and 100 then print out an error message. In the program, ask the user for a score and then call your function. "
   ]
  },
  {
   "cell_type": "code",
   "execution_count": 26,
   "metadata": {},
   "outputs": [
    {
     "name": "stdin",
     "output_type": "stream",
     "text": [
      "Enter a test score:  -2\n"
     ]
    },
    {
     "name": "stdout",
     "output_type": "stream",
     "text": [
      "Please enter a test score between 0 and 100\n"
     ]
    }
   ],
   "source": [
    "def grade_score(test_score):\n",
    "    score = test_score\n",
    "    a = 'A'\n",
    "    b = 'B'\n",
    "    c = 'C'\n",
    "    d = 'D'\n",
    "    f = 'F'\n",
    "    if (score <= 100) and (score >= 90):\n",
    "        print (f\"Your grade is: {a}\")\n",
    "    elif (score < 90) and  (score >= 80):\n",
    "        print (f\"Your grade is: {b}\")\n",
    "    elif (score < 80) and  (score >= 70):\n",
    "        print (f\"Your grade is: {c}\")\n",
    "    elif (score < 70) and  (score >= 60):\n",
    "        print (f\"Your grade is: {d}\")\n",
    "    elif (score < 60) and  (score >= 0):\n",
    "        print (f\"Your grade is: {f}\")\n",
    "    else:\n",
    "        print(\"Please enter a test score between 0 and 100\")\n",
    "\n",
    "test_score = float(input(\"Enter a test score: \"))\n",
    "\n",
    "grade_score(test_score)\n",
    "\n",
    "\n",
    "\n",
    "        "
   ]
  },
  {
   "cell_type": "code",
   "execution_count": 25,
   "metadata": {},
   "outputs": [
    {
     "name": "stdin",
     "output_type": "stream",
     "text": [
      "Enter a test score:  89\n"
     ]
    },
    {
     "name": "stdout",
     "output_type": "stream",
     "text": [
      "Your grade is: B\n"
     ]
    }
   ],
   "source": []
  },
  {
   "cell_type": "code",
   "execution_count": null,
   "metadata": {},
   "outputs": [],
   "source": []
  },
  {
   "cell_type": "markdown",
   "metadata": {},
   "source": [
    "### Exercise 4\n",
    "Convert following decimal number to a binary number by hand:\n",
    "\n",
    "    61\n",
    "    15\n",
    "    71\n",
    "    "
   ]
  },
  {
   "cell_type": "code",
   "execution_count": 26,
   "metadata": {},
   "outputs": [
    {
     "name": "stdout",
     "output_type": "stream",
     "text": [
      "35\n",
      "1\n",
      "17\n",
      "1\n",
      "8\n",
      "1\n",
      "4\n",
      "0\n",
      "2\n",
      "0\n",
      "1\n",
      "0\n",
      "0\n",
      "1\n"
     ]
    }
   ],
   "source": [
    "# 61\n",
    "print(61//2)\n",
    "print(61%2)\n",
    "print(30//2)\n",
    "print(30%2)\n",
    "print(15//2)\n",
    "print(15%2)\n",
    "print(7//2)\n",
    "print(7%2)\n",
    "print(3//2)\n",
    "print(3%2)\n",
    "print(1//2)\n",
    "print(1%2)\n",
    "\n",
    "# 15\n",
    "print(15//2)\n",
    "print(15%2)\n",
    "print(7//2)\n",
    "print(7%2)\n",
    "print(3//2)\n",
    "print(3%2)\n",
    "print(1//2)\n",
    "print(1%2)\n",
    "\n",
    "# 71\n",
    "print(71//2)\n",
    "print(71%2)\n",
    "print(35//2)\n",
    "print(35%2)\n",
    "print(17//2)\n",
    "print(17%2)\n",
    "print(8//2)\n",
    "print(8%2)\n",
    "print(4//2)\n",
    "print(4%2)\n",
    "print(2//2)\n",
    "print(2%2)\n",
    "print(1//2)\n",
    "print(1%2)\n"
   ]
  },
  {
   "cell_type": "code",
   "execution_count": 28,
   "metadata": {},
   "outputs": [
    {
     "name": "stdout",
     "output_type": "stream",
     "text": [
      "0b111101\n",
      "61 in binary: 00111101\n",
      "0b1111\n",
      "15 in binary: 00001111\n",
      "0b1000111\n",
      "71 in binary: 01000111\n"
     ]
    }
   ],
   "source": [
    "print('61 in binary: 00111101')\n",
    "print('15 in binary: 00001111')\n",
    "print('71 in binary: 01000111')"
   ]
  },
  {
   "cell_type": "markdown",
   "metadata": {},
   "source": [
    "### Exercise 5\n",
    "When a = 61 and b = 15, what is the result of following bitwise opertion? Use inline comments to show your result in a binary number. Find your answer by hand.\n",
    "\n",
    "    a & b\n",
    "    a | b\n",
    "    a ^ b\n",
    "    a >> 2\n",
    "    "
   ]
  },
  {
   "cell_type": "code",
   "execution_count": null,
   "metadata": {},
   "outputs": [],
   "source": [
    "# a = 61  (00111101)\n",
    "# b = 15  (00001111)\n",
    "# a & b = (00001101)"
   ]
  },
  {
   "cell_type": "code",
   "execution_count": 1,
   "metadata": {},
   "outputs": [
    {
     "data": {
      "text/plain": [
       "'0b111101'"
      ]
     },
     "execution_count": 1,
     "metadata": {},
     "output_type": "execute_result"
    }
   ],
   "source": [
    "# a = 61  (00111101)\n",
    "# b = 15  (00001111)\n",
    "# a | b = (00111111)"
   ]
  },
  {
   "cell_type": "code",
   "execution_count": null,
   "metadata": {},
   "outputs": [],
   "source": [
    "# a = 61  (00111101)\n",
    "# b = 15  (00001111)\n",
    "# a ^ b = (00110010)"
   ]
  },
  {
   "cell_type": "code",
   "execution_count": null,
   "metadata": {},
   "outputs": [],
   "source": [
    "# a = 61  (00111101)\n",
    "# b = 15  (00001111)\n",
    "# a >>2 = (00000011)"
   ]
  },
  {
   "cell_type": "code",
   "execution_count": null,
   "metadata": {},
   "outputs": [],
   "source": []
  }
 ],
 "metadata": {
  "kernelspec": {
   "display_name": "Python 3 (ipykernel)",
   "language": "python",
   "name": "python3"
  },
  "language_info": {
   "codemirror_mode": {
    "name": "ipython",
    "version": 3
   },
   "file_extension": ".py",
   "mimetype": "text/x-python",
   "name": "python",
   "nbconvert_exporter": "python",
   "pygments_lexer": "ipython3",
   "version": "3.11.7"
  }
 },
 "nbformat": 4,
 "nbformat_minor": 4
}
